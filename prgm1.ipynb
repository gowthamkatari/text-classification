{
 "cells": [
  {
   "cell_type": "code",
   "execution_count": 161,
   "metadata": {},
   "outputs": [],
   "source": [
    "import pandas as pd\n",
    "import numpy as np\n",
    "from sklearn import svm\n",
    "np.set_printoptions(threshold=np.nan)\n"
   ]
  },
  {
   "cell_type": "code",
   "execution_count": 162,
   "metadata": {},
   "outputs": [],
   "source": [
    "\n",
    "ob = open('train.txt','r')\n",
    "\n",
    "#class_data = np.array([])\n",
    "#abstract_data = np.array([])\n",
    "\n",
    "class_data = []\n",
    "abstract_data = []"
   ]
  },
  {
   "cell_type": "code",
   "execution_count": 163,
   "metadata": {},
   "outputs": [],
   "source": [
    "# n = 1\n",
    "# while True:\n",
    "#     line = ob.readline()\n",
    "#     if line == '':\n",
    "#         break\n",
    "#     class_labels = line[0]\n",
    "#     abstract = line[1:].strip()\n",
    "#     class_data = np.append(class_data,class_labels)\n",
    "#     abstract_data = np.append(abstract_data,abstract)\n",
    "#     n = 2\n",
    "    \n",
    "# #print(class_data)\n",
    "# #print(abstract_data)\n",
    "# print('v')\n"
   ]
  },
  {
   "cell_type": "code",
   "execution_count": 164,
   "metadata": {},
   "outputs": [],
   "source": [
    "\n",
    "while True:\n",
    "    line = ob.readline()\n",
    "    if line == '':\n",
    "        break\n",
    "    class_labels = line[0]\n",
    "    abstract = line[1:].strip()\n",
    "    class_data.append(class_labels)\n",
    "    abstract_data.append(abstract)\n",
    "    \n",
    "# print(class_data)\n",
    "# print(abstract_data)\n",
    "# print('v')\n"
   ]
  },
  {
   "cell_type": "code",
   "execution_count": 165,
   "metadata": {},
   "outputs": [
    {
     "name": "stdout",
     "output_type": "stream",
     "text": [
      "3163\n",
      "1494\n",
      "1925\n",
      "3051\n",
      "4805\n"
     ]
    }
   ],
   "source": [
    "print(class_data.count('1'))\n",
    "print(class_data.count('2'))\n",
    "print(class_data.count('3'))\n",
    "print(class_data.count('4'))\n",
    "print(class_data.count('5'))"
   ]
  },
  {
   "cell_type": "code",
   "execution_count": 166,
   "metadata": {},
   "outputs": [
    {
     "data": {
      "text/plain": [
       "14438"
      ]
     },
     "execution_count": 166,
     "metadata": {},
     "output_type": "execute_result"
    }
   ],
   "source": [
    "len(class_data)\n",
    "len(abstract_data)"
   ]
  },
  {
   "cell_type": "code",
   "execution_count": 167,
   "metadata": {},
   "outputs": [],
   "source": [
    "from sklearn import model_selection\n",
    "from sklearn.feature_extraction.text import CountVectorizer\n"
   ]
  },
  {
   "cell_type": "code",
   "execution_count": 168,
   "metadata": {},
   "outputs": [],
   "source": [
    "\n",
    "x_train, x_test,y_train,y_test = model_selection.train_test_split(abstract_data,class_data, test_size = 0.4, random_state = 0) "
   ]
  },
  {
   "cell_type": "code",
   "execution_count": 169,
   "metadata": {},
   "outputs": [],
   "source": [
    "#clfrSVM = svm.SVC(kernel = 'linear', C= 2)"
   ]
  },
  {
   "cell_type": "code",
   "execution_count": 170,
   "metadata": {},
   "outputs": [
    {
     "name": "stdout",
     "output_type": "stream",
     "text": [
      "31652\n",
      "31651\n"
     ]
    }
   ],
   "source": [
    "\n",
    "features_names = np.array(vect.get_feature_names())\n",
    "print(len(features_names))\n",
    "features_names = np.delete(vect.get_feature_names(),'000')\n",
    "#features_names = np.delete(features_names,'00')\n",
    "print(len(features_names))"
   ]
  },
  {
   "cell_type": "code",
   "execution_count": 171,
   "metadata": {},
   "outputs": [],
   "source": [
    "vect = CountVectorizer().fit(x_train)"
   ]
  },
  {
   "cell_type": "code",
   "execution_count": 172,
   "metadata": {},
   "outputs": [
    {
     "data": {
      "text/plain": [
       "<1x31652 sparse matrix of type '<type 'numpy.int64'>'\n",
       "\twith 86 stored elements in Compressed Sparse Row format>"
      ]
     },
     "execution_count": 172,
     "metadata": {},
     "output_type": "execute_result"
    }
   ],
   "source": [
    "X_train_vectorized = vect.transform(x_train)\n",
    "X_train_vectorized['0000']"
   ]
  },
  {
   "cell_type": "code",
   "execution_count": 175,
   "metadata": {},
   "outputs": [
    {
     "data": {
      "text/plain": [
       "MultinomialNB(alpha=1.0, class_prior=None, fit_prior=True)"
      ]
     },
     "execution_count": 175,
     "metadata": {},
     "output_type": "execute_result"
    }
   ],
   "source": [
    "from sklearn import naive_bayes\n",
    "clfrNB = naive_bayes.MultinomialNB()\n",
    "clfrNB.fit(X_train_vectorized,y_train)\n"
   ]
  },
  {
   "cell_type": "code",
   "execution_count": 176,
   "metadata": {},
   "outputs": [],
   "source": [
    "predicted_labels_NB = clfrNB.predict(vect.transform(x_test))"
   ]
  },
  {
   "cell_type": "code",
   "execution_count": 179,
   "metadata": {},
   "outputs": [
    {
     "data": {
      "text/plain": [
       "SVC(C=2, cache_size=200, class_weight=None, coef0=0.0,\n",
       "  decision_function_shape='ovr', degree=3, gamma='auto', kernel='linear',\n",
       "  max_iter=-1, probability=False, random_state=None, shrinking=True,\n",
       "  tol=0.001, verbose=False)"
      ]
     },
     "execution_count": 179,
     "metadata": {},
     "output_type": "execute_result"
    }
   ],
   "source": [
    "clfrSVM = svm.SVC(kernel = 'linear', C= 2)\n",
    "clfrSVM.fit(X_train_vectorized,y_train)"
   ]
  },
  {
   "cell_type": "code",
   "execution_count": 180,
   "metadata": {},
   "outputs": [
    {
     "data": {
      "text/plain": [
       "5776"
      ]
     },
     "execution_count": 180,
     "metadata": {},
     "output_type": "execute_result"
    }
   ],
   "source": [
    "predicted_labels = clfrSVM.predict(vect.transform(x_test))\n",
    "len(predicted_labels)"
   ]
  },
  {
   "cell_type": "code",
   "execution_count": 181,
   "metadata": {},
   "outputs": [
    {
     "data": {
      "text/plain": [
       "5776"
      ]
     },
     "execution_count": 181,
     "metadata": {},
     "output_type": "execute_result"
    }
   ],
   "source": [
    "len(y_test)"
   ]
  },
  {
   "cell_type": "code",
   "execution_count": 182,
   "metadata": {},
   "outputs": [
    {
     "name": "stdout",
     "output_type": "stream",
     "text": [
      "F1-Score\n",
      "('naive bayes', 0.57652354570637121)\n",
      "('SVM', 0.47524238227146814)\n"
     ]
    }
   ],
   "source": [
    "from sklearn import metrics\n",
    "print(\"F1-Score\")\n",
    "print('naive bayes',metrics.f1_score(y_test,predicted_labels_NB, average ='micro'))\n",
    "print('SVM',metrics.f1_score(y_test,predicted_labels, average ='micro'))"
   ]
  },
  {
   "cell_type": "code",
   "execution_count": 131,
   "metadata": {},
   "outputs": [],
   "source": [
    "from sklearn.feature_extraction.text import TfidfVectorizer"
   ]
  },
  {
   "cell_type": "code",
   "execution_count": 183,
   "metadata": {},
   "outputs": [
    {
     "name": "stdout",
     "output_type": "stream",
     "text": [
      "3534\n"
     ]
    },
    {
     "data": {
      "text/plain": [
       "0.55107340720221609"
      ]
     },
     "execution_count": 183,
     "metadata": {},
     "output_type": "execute_result"
    }
   ],
   "source": [
    "vect = TfidfVectorizer(min_df = 5).fit(x_train)\n",
    "print(len(vect.get_feature_names()))\n",
    "X_train_vectorized = vect.transform(x_train)\n",
    "clfrSVM = svm.SVC(kernel = 'linear', C= 2)\n",
    "clfrSVM.fit(X_train_vectorized,y_train)\n",
    "predicted_labels = clfrSVM.predict(vect.transform(x_test))\n",
    "len(predicted_labels)\n",
    "metrics.f1_score(y_test,predicted_labels, average ='micro')"
   ]
  },
  {
   "cell_type": "code",
   "execution_count": 188,
   "metadata": {},
   "outputs": [
    {
     "name": "stdout",
     "output_type": "stream",
     "text": [
      "5569\n"
     ]
    },
    {
     "data": {
      "text/plain": [
       "0.56648199445983383"
      ]
     },
     "execution_count": 188,
     "metadata": {},
     "output_type": "execute_result"
    }
   ],
   "source": [
    "vect = TfidfVectorizer(min_df = 15).fit(x_train)\n",
    "print(len(vect.get_feature_names()))\n",
    "X_train_vectorized = vect.transform(x_train)\n",
    "clfrNB = naive_bayes.MultinomialNB()\n",
    "clfrNB.fit(X_train_vectorized,y_train)\n",
    "predicted_labels = clfrNB.predict(vect.transform(x_test))\n",
    "len(predicted_labels)\n",
    "metrics.f1_score(y_test,predicted_labels, average ='micro')"
   ]
  },
  {
   "cell_type": "code",
   "execution_count": 201,
   "metadata": {},
   "outputs": [
    {
     "data": {
      "text/plain": [
       "0.52302631578947367"
      ]
     },
     "execution_count": 201,
     "metadata": {},
     "output_type": "execute_result"
    }
   ],
   "source": [
    "# vect = TfidfVectorizer(min_df = 5,ngram_range=(1,2)).fit(x_train)\n",
    "# X_train_vectorized = vect.transform(x_train)\n",
    "# clfrSVM = svm.SVC(kernel = 'linear', C= 2)\n",
    "# clfrSVM.fit(X_train_vectorized,y_train)\n",
    "# predicted_labels = clfrSVM.predict(vect.transform(x_test))\n",
    "# len(predicted_labels)\n",
    "# metrics.f1_score(y_test,predicted_labels, average ='micro')"
   ]
  },
  {
   "cell_type": "code",
   "execution_count": 133,
   "metadata": {},
   "outputs": [],
   "source": [
    "#X_train_vectorized = vect_x_train.transform(x_train)\n",
    "#clfrSVM.fit(X_train_vectorized,y_train)"
   ]
  },
  {
   "cell_type": "code",
   "execution_count": 134,
   "metadata": {},
   "outputs": [],
   "source": [
    "# vect = CountVectorizer().fit(abstract_data)\n",
    "# # tok = vect.get_feature_names()\n",
    "# # len(vect.get_feature_names())\n",
    "# X_Abstract_vectorized = vect.transform(abstract_data)\n",
    "# clfrSVM.fit(X_Abstract_vectorized,class_data)"
   ]
  },
  {
   "cell_type": "code",
   "execution_count": 135,
   "metadata": {},
   "outputs": [],
   "source": [
    "#predcited_lables =  model_selection.cross_val_predict(clfrSVM,X_Abstract_vectorized, class_data,cv=2)"
   ]
  },
  {
   "cell_type": "code",
   "execution_count": 136,
   "metadata": {},
   "outputs": [],
   "source": [
    "# len(predicted_labels)\n",
    "# metrics.f1_score(class_data,predicted_labels, average ='micro')"
   ]
  },
  {
   "cell_type": "code",
   "execution_count": 202,
   "metadata": {},
   "outputs": [
    {
     "data": {
      "text/plain": [
       "14442"
      ]
     },
     "execution_count": 202,
     "metadata": {},
     "output_type": "execute_result"
    }
   ],
   "source": [
    "ob_test = open('test.txt')\n",
    "test = []\n",
    "while True:\n",
    "    line = ob_test.readline()\n",
    "    if line == '':\n",
    "        break\n",
    "    test.append(line)\n",
    "\n",
    "len(test)\n",
    "    \n"
   ]
  },
  {
   "cell_type": "code",
   "execution_count": null,
   "metadata": {},
   "outputs": [],
   "source": [
    "# vect = TfidfVectorizer(min_df = 5).fit(abstract_data)\n",
    "# print(len(vect.get_feature_names()))\n",
    "# X_train_vectorized = vect.transform(abstract_data)\n",
    "# clfrSVM = svm.SVC(kernel = 'linear', C= 2)\n",
    "# clfrSVM.fit(X_train_vectorized,class_data)\n",
    "# predicted_labels = clfrSVM.predict(vect.transform(test))\n",
    "# len(predicted_labels)\n",
    "# # metrics.f1_score(y_test,predicted_labels, average ='micro')"
   ]
  },
  {
   "cell_type": "code",
   "execution_count": 200,
   "metadata": {},
   "outputs": [
    {
     "name": "stdout",
     "output_type": "stream",
     "text": [
      "14245\n"
     ]
    },
    {
     "data": {
      "text/plain": [
       "14442"
      ]
     },
     "execution_count": 200,
     "metadata": {},
     "output_type": "execute_result"
    }
   ],
   "source": [
    "# vect = TfidfVectorizer(min_df = 5).fit(abstract_data)\n",
    "# print(len(vect.get_feature_names()))\n",
    "# X_train_vectorized = vect.transform(abstract_data)\n",
    "# clfrNB = svm.SVC(kernel = 'linear', C= 2)\n",
    "# clfrNB.fit(X_train_vectorized,class_data)\n",
    "# predicted_labels = clfrNB.predict(vect.transform(test))\n",
    "# len(predicted_labels)\n",
    "# # metrics.f1_score(y_test,predicted_labels, average ='micro')"
   ]
  },
  {
   "cell_type": "code",
   "execution_count": 203,
   "metadata": {},
   "outputs": [
    {
     "data": {
      "text/plain": [
       "14442"
      ]
     },
     "execution_count": 203,
     "metadata": {},
     "output_type": "execute_result"
    }
   ],
   "source": [
    "vect = TfidfVectorizer(min_df = 5,ngram_range=(1,2)).fit(abstract_data)\n",
    "X_train_vectorized = vect.transform(abstract_data)\n",
    "clfrSVM = svm.SVC(kernel = 'linear', C= 2)\n",
    "clfrSVM.fit(X_train_vectorized,class_data)\n",
    "predicted_labels = clfrSVM.predict(vect.transform(test))\n",
    "len(predicted_labels)\n",
    "#metrics.f1_score(y_test,predicted_labels, average ='micro')"
   ]
  },
  {
   "cell_type": "code",
   "execution_count": 195,
   "metadata": {},
   "outputs": [],
   "source": [
    "# X_train_vectorized = vect.transform(abstract_data)\n",
    "# clfrNB = naive_bayes.MultinomialNB()\n",
    "# clfrNB.fit(X_train_vectorized,class_data)\n",
    "# predicted_labels = clfrNB.predict(vect.transform(test))"
   ]
  },
  {
   "cell_type": "code",
   "execution_count": 204,
   "metadata": {},
   "outputs": [],
   "source": [
    "f = open('output.txt','w+')"
   ]
  },
  {
   "cell_type": "code",
   "execution_count": 205,
   "metadata": {},
   "outputs": [],
   "source": [
    "for i in range(len(predicted_labels)):\n",
    "    f.write(predicted_labels[i])\n",
    "    f.write('\\n')"
   ]
  },
  {
   "cell_type": "code",
   "execution_count": 206,
   "metadata": {},
   "outputs": [],
   "source": [
    "# for i in range(10):\n",
    "#       f.write(\"This is line %d\\r\\n\" % (i+1))"
   ]
  },
  {
   "cell_type": "code",
   "execution_count": 207,
   "metadata": {},
   "outputs": [],
   "source": [
    "f.close()"
   ]
  },
  {
   "cell_type": "code",
   "execution_count": null,
   "metadata": {},
   "outputs": [],
   "source": []
  }
 ],
 "metadata": {
  "anaconda-cloud": {},
  "kernelspec": {
   "display_name": "Python [conda env:DAND]",
   "language": "python",
   "name": "conda-env-DAND-py"
  },
  "language_info": {
   "codemirror_mode": {
    "name": "ipython",
    "version": 2
   },
   "file_extension": ".py",
   "mimetype": "text/x-python",
   "name": "python",
   "nbconvert_exporter": "python",
   "pygments_lexer": "ipython2",
   "version": "2.7.12"
  }
 },
 "nbformat": 4,
 "nbformat_minor": 2
}
